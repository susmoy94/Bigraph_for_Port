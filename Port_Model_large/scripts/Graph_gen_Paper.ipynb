{
 "cells": [
  {
   "cell_type": "code",
   "execution_count": null,
   "id": "cf0796d8",
   "metadata": {},
   "outputs": [],
   "source": [
    "import os\n",
    "import shutil\n",
    "import re\n",
    "import matplotlib.pyplot as plt\n",
    "import csv"
   ]
  },
  {
   "cell_type": "code",
   "execution_count": null,
   "id": "4388a369",
   "metadata": {},
   "outputs": [],
   "source": [
    "directory='/Bigraph_for_Port/Port_Model_large/analysis/'"
   ]
  },
  {
   "cell_type": "code",
   "execution_count": null,
   "id": "81672bd1",
   "metadata": {},
   "outputs": [],
   "source": [
    "with open('/Bigraph_for_Port/Port_Model_large/scripts/queries.txt', 'r') as f:\n",
    "    lines = f.readlines()\n",
    "f.close()\n",
    "formula={}\n",
    "i=1\n",
    "j=1\n",
    "for line in lines:\n",
    "    if ';' not in line:\n",
    "        formula[str(j)]=line.strip()\n",
    "        j+=1\n",
    "# print(formula)\n",
    "np=j\n",
    "# print(np)"
   ]
  },
  {
   "cell_type": "code",
   "execution_count": null,
   "id": "1fbc2cf9",
   "metadata": {},
   "outputs": [],
   "source": [
    "label_colors = {\n",
    "    'CCC': {'color':'#1f3a63','linestyle': 'solid'},\n",
    "    'CCT': {'color': '#2a4d2f','linestyle': 'solid'},\n",
    "    'CTT': {'color':'#9e2a2b','linestyle': 'solid'},\n",
    "    'TTT': {'color':'#4b0082','linestyle': 'solid'},\n",
    "    'Any 2': {'color':'#006666','linestyle': 'dashed'},\n",
    "    'Any 3': {'color':'#556b2f','linestyle': 'dotted'}\n",
    "}"
   ]
  },
  {
   "cell_type": "code",
   "execution_count": null,
   "id": "e2afca1d",
   "metadata": {},
   "outputs": [],
   "source": [
    "for i in range(1,np+1):\n",
    "    X=[]\n",
    "    Y=[]\n",
    "    labels=[]\n",
    "    for filename in os.listdir(directory):\n",
    "        if filename.endswith('_csv.txt'):\n",
    "            ctr=0\n",
    "            a=filename.split('.')[0].split('_')\n",
    "            if int(a[-2])==i:\n",
    "                x = []  \n",
    "                y = [] \n",
    "                with open(directory+filename, 'r') as file:\n",
    "                    reader = csv.reader(file)\n",
    "                    next(reader) \n",
    "                    for row in reader:\n",
    "                        if ctr>380:\n",
    "                            break\n",
    "                        else:\n",
    "                            ctr+=1\n",
    "                            x.append(float(row[0]))  \n",
    "                            y.append(float(row[1]))\n",
    "                    Y.append(y)\n",
    "                    labels.append(a[-3])\n",
    "                X.append(x)\n",
    "    if len(labels)>0:\n",
    "        # labels=sorted(labels)\n",
    "        labels[labels.index('generic')]='Any 2'\n",
    "        labels[labels.index('generic3')]='Any 3'\n",
    "    if len(X)>0 and len(Y)>0:\n",
    "        plt.figure(figsize=(8, 6))\n",
    "        for y,labels in zip(Y,labels):\n",
    "            a=label_colors[labels]\n",
    "            plt.plot(x, y, label=labels, color=a['color'], linestyle=a['linestyle'])\n",
    "        plt.xlabel('Time (t)')\n",
    "        plt.ylabel('Probability')\n",
    "        plt.grid(True)\n",
    "        plt.title(formula[str(i)])\n",
    "        plt.legend(loc='lower right', bbox_to_anchor=(1, 0.05))\n",
    "        plt.savefig(directory+'/Plots/'+formula[str(i)]+'.png', dpi=300)  \n",
    "        plt.show()"
   ]
  }
 ],
 "metadata": {
  "kernelspec": {
   "display_name": "Python 3",
   "language": "python",
   "name": "python3"
  },
  "language_info": {
   "codemirror_mode": {
    "name": "ipython",
    "version": 3
   },
   "file_extension": ".py",
   "mimetype": "text/x-python",
   "name": "python",
   "nbconvert_exporter": "python",
   "pygments_lexer": "ipython3",
   "version": "3.9.6"
  }
 },
 "nbformat": 4,
 "nbformat_minor": 5
}
